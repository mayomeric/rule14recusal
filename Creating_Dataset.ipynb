{
 "cells": [
  {
   "cell_type": "code",
   "execution_count": 2,
   "metadata": {},
   "outputs": [],
   "source": [
    "# READING PACKAGES\n",
    "\n",
    "from __future__ import print_function\n",
    "import apiclient\n",
    "from httplib2 import Http\n",
    "from oauth2client import file, client, tools\n",
    "import pandas as pd\n",
    "\n",
    "import json\n",
    "import urllib.request"
   ]
  },
  {
   "cell_type": "code",
   "execution_count": 3,
   "metadata": {},
   "outputs": [],
   "source": [
    "SPREADSHEET_ID = '1cgylzaHlX-v1KTTA7gxPO0-CbUT6FPqyDH93rqOgP9A'\n",
    "RANGE_NAME = 'Sheet1'"
   ]
  },
  {
   "cell_type": "code",
   "execution_count": 4,
   "metadata": {},
   "outputs": [],
   "source": [
    "# FUNCTIONS TO GET DATA FROM GOOGLE SPREADSHEET\n",
    "\n",
    "def get_google_sheet(spreadsheet_id, range_name):\n",
    "    \"\"\" Retrieve sheet data using OAuth credentials and Google Python API. \"\"\"\n",
    "    scopes = 'https://www.googleapis.com/auth/spreadsheets.readonly'\n",
    "    # Setup the Sheets API\n",
    "    store = file.Storage('credentials.json')\n",
    "    creds = store.get()\n",
    "    if not creds or creds.invalid:\n",
    "        flow = client.flow_from_clientsecrets('client_secret.json', scopes)\n",
    "        creds = tools.run_flow(flow, store)\n",
    "    service = apiclient.discovery.build('sheets', 'v4', http=creds.authorize(Http()))\n",
    "\n",
    "    # Call the Sheets API\n",
    "    gsheet = service.spreadsheets().values().get(spreadsheetId=spreadsheet_id, range=range_name).execute()\n",
    "    return gsheet\n",
    "\n",
    "\n",
    "def gsheet2df(gsheet):\n",
    "    \"\"\" Converts Google sheet data to a Pandas DataFrame.\n",
    "    Note: This script assumes that your data contains a header file on the first row!\n",
    "    Also note that the Google API returns 'none' from empty cells - in order for the code\n",
    "    below to work, you'll need to make sure your sheet doesn't contain empty cells,\n",
    "    or update the code to account for such instances.\n",
    "    \"\"\"\n",
    "    header = gsheet.get('values', [])[0]   # Assumes first line is header!\n",
    "    values = gsheet.get('values', [])[1:]  # Everything else is data.\n",
    "    if not values:\n",
    "        print('No data found.')\n",
    "    else:\n",
    "        all_data = []\n",
    "        for col_id, col_name in enumerate(header):\n",
    "            column_data = []\n",
    "            for row in values:\n",
    "                column_data.append(row[col_id])\n",
    "            ds = pd.Series(data=column_data, name=col_name)\n",
    "            all_data.append(ds)\n",
    "        df = pd.concat(all_data, axis=1)\n",
    "        return df"
   ]
  },
  {
   "cell_type": "code",
   "execution_count": 5,
   "metadata": {},
   "outputs": [],
   "source": [
    "# GETTING DATA AND MAKING DATAFRAME\n",
    "\n",
    "gsheet = get_google_sheet(SPREADSHEET_ID, RANGE_NAME)\n",
    "df = gsheet2df(gsheet)\n",
    "\n",
    "header_list = ['Date', 'Alderman', 'Bill_Number', 'Recusal_Reason', 'Subject', 'Title', 'Type_Of_Legislation']\n",
    "df = df.reindex(columns = header_list)"
   ]
  },
  {
   "cell_type": "code",
   "execution_count": 7,
   "metadata": {},
   "outputs": [
    {
     "name": "stderr",
     "output_type": "stream",
     "text": [
      "/usr/local/lib/python3.7/site-packages/ipykernel_launcher.py:11: SettingWithCopyWarning: \n",
      "A value is trying to be set on a copy of a slice from a DataFrame\n",
      "\n",
      "See the caveats in the documentation: http://pandas.pydata.org/pandas-docs/stable/indexing.html#indexing-view-versus-copy\n",
      "  # This is added back by InteractiveShellApp.init_path()\n",
      "/usr/local/lib/python3.7/site-packages/pandas/core/indexing.py:190: SettingWithCopyWarning: \n",
      "A value is trying to be set on a copy of a slice from a DataFrame\n",
      "\n",
      "See the caveats in the documentation: http://pandas.pydata.org/pandas-docs/stable/indexing.html#indexing-view-versus-copy\n",
      "  self._setitem_with_indexer(indexer, value)\n",
      "/usr/local/lib/python3.7/site-packages/ipykernel_launcher.py:12: SettingWithCopyWarning: \n",
      "A value is trying to be set on a copy of a slice from a DataFrame\n",
      "\n",
      "See the caveats in the documentation: http://pandas.pydata.org/pandas-docs/stable/indexing.html#indexing-view-versus-copy\n",
      "  if sys.path[0] == '':\n",
      "/usr/local/lib/python3.7/site-packages/ipykernel_launcher.py:13: SettingWithCopyWarning: \n",
      "A value is trying to be set on a copy of a slice from a DataFrame\n",
      "\n",
      "See the caveats in the documentation: http://pandas.pydata.org/pandas-docs/stable/indexing.html#indexing-view-versus-copy\n",
      "  del sys.path[0]\n"
     ]
    }
   ],
   "source": [
    "# USING API AND APPENDING DATA\n",
    "\n",
    "for index, row in df.iterrows():\n",
    "    identifier = row['Bill_Number']\n",
    "    api = 'https://ocd.datamade.us/bills/?identifier=' + identifier\n",
    "    with urllib.request.urlopen(api) as url:\n",
    "        data = json.loads(url.read().decode())\n",
    "        \n",
    "        subject = data['results'][0]['subject']\n",
    "        title = data['results'][0]['title']\n",
    "        classification = data['results'][0]['classification']\n",
    "\n",
    "        df['Subject'][index] = subject\n",
    "        df['Title'][index] = title\n",
    "        df['Type_Of_Legislation'][index] = classification\n",
    "        \n",
    "\n",
    "        \n",
    "df.to_csv('johncena.csv')"
   ]
  },
  {
   "cell_type": "code",
   "execution_count": null,
   "metadata": {},
   "outputs": [],
   "source": []
  }
 ],
 "metadata": {
  "kernelspec": {
   "display_name": "Python 3",
   "language": "python",
   "name": "python3"
  }
 },
 "nbformat": 4,
 "nbformat_minor": 2
}
